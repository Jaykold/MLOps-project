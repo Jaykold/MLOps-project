{
 "cells": [
  {
   "cell_type": "code",
   "execution_count": 1,
   "metadata": {},
   "outputs": [],
   "source": [
    "import  pandas as pd\n",
    "import numpy as np\n",
    "import matplotlib.pyplot as plt\n",
    "import seaborn as sns\n",
    "\n",
    "import warnings\n",
    "warnings.filterwarnings(\"ignore\")\n",
    "\n",
    "pd.set_option('display.float_format', lambda x: '%.3f' % x)"
   ]
  },
  {
   "cell_type": "code",
   "execution_count": 2,
   "metadata": {},
   "outputs": [
    {
     "name": "stdout",
     "output_type": "stream",
     "text": [
      "Python 3.12.4\n"
     ]
    }
   ],
   "source": [
    "!python -V"
   ]
  },
  {
   "cell_type": "code",
   "execution_count": 3,
   "metadata": {},
   "outputs": [],
   "source": [
    "from ucimlrepo import fetch_ucirepo \n",
    "  \n",
    "# fetch dataset \n",
    "dry_bean = fetch_ucirepo(id=602) \n",
    "  \n",
    "# data (as pandas dataframes) \n",
    "X = dry_bean.data.features \n",
    "y = dry_bean.data.targets\n"
   ]
  },
  {
   "cell_type": "code",
   "execution_count": 4,
   "metadata": {},
   "outputs": [],
   "source": [
    "dry_bean = pd.concat([X, y], axis=1)"
   ]
  },
  {
   "cell_type": "code",
   "execution_count": 44,
   "metadata": {},
   "outputs": [],
   "source": [
    "# with open('../data/dry_bean.csv', 'w') as f:\n",
    "#     dry_bean.to_csv(f, index=False)"
   ]
  },
  {
   "cell_type": "code",
   "execution_count": 6,
   "metadata": {},
   "outputs": [
    {
     "data": {
      "text/html": [
       "<div>\n",
       "<style scoped>\n",
       "    .dataframe tbody tr th:only-of-type {\n",
       "        vertical-align: middle;\n",
       "    }\n",
       "\n",
       "    .dataframe tbody tr th {\n",
       "        vertical-align: top;\n",
       "    }\n",
       "\n",
       "    .dataframe thead th {\n",
       "        text-align: right;\n",
       "    }\n",
       "</style>\n",
       "<table border=\"1\" class=\"dataframe\">\n",
       "  <thead>\n",
       "    <tr style=\"text-align: right;\">\n",
       "      <th></th>\n",
       "      <th>Area</th>\n",
       "      <th>Perimeter</th>\n",
       "      <th>MajorAxisLength</th>\n",
       "      <th>MinorAxisLength</th>\n",
       "      <th>AspectRatio</th>\n",
       "      <th>Eccentricity</th>\n",
       "      <th>ConvexArea</th>\n",
       "      <th>EquivDiameter</th>\n",
       "      <th>Extent</th>\n",
       "      <th>Solidity</th>\n",
       "      <th>Roundness</th>\n",
       "      <th>Compactness</th>\n",
       "      <th>ShapeFactor1</th>\n",
       "      <th>ShapeFactor2</th>\n",
       "      <th>ShapeFactor3</th>\n",
       "      <th>ShapeFactor4</th>\n",
       "      <th>Class</th>\n",
       "    </tr>\n",
       "  </thead>\n",
       "  <tbody>\n",
       "    <tr>\n",
       "      <th>0</th>\n",
       "      <td>28395</td>\n",
       "      <td>610.291</td>\n",
       "      <td>208.178</td>\n",
       "      <td>173.889</td>\n",
       "      <td>1.197</td>\n",
       "      <td>0.550</td>\n",
       "      <td>28715</td>\n",
       "      <td>190.141</td>\n",
       "      <td>0.764</td>\n",
       "      <td>0.989</td>\n",
       "      <td>0.958</td>\n",
       "      <td>0.913</td>\n",
       "      <td>0.007</td>\n",
       "      <td>0.003</td>\n",
       "      <td>0.834</td>\n",
       "      <td>0.999</td>\n",
       "      <td>SEKER</td>\n",
       "    </tr>\n",
       "    <tr>\n",
       "      <th>1</th>\n",
       "      <td>28734</td>\n",
       "      <td>638.018</td>\n",
       "      <td>200.525</td>\n",
       "      <td>182.734</td>\n",
       "      <td>1.097</td>\n",
       "      <td>0.412</td>\n",
       "      <td>29172</td>\n",
       "      <td>191.273</td>\n",
       "      <td>0.784</td>\n",
       "      <td>0.985</td>\n",
       "      <td>0.887</td>\n",
       "      <td>0.954</td>\n",
       "      <td>0.007</td>\n",
       "      <td>0.004</td>\n",
       "      <td>0.910</td>\n",
       "      <td>0.998</td>\n",
       "      <td>SEKER</td>\n",
       "    </tr>\n",
       "    <tr>\n",
       "      <th>2</th>\n",
       "      <td>29380</td>\n",
       "      <td>624.110</td>\n",
       "      <td>212.826</td>\n",
       "      <td>175.931</td>\n",
       "      <td>1.210</td>\n",
       "      <td>0.563</td>\n",
       "      <td>29690</td>\n",
       "      <td>193.411</td>\n",
       "      <td>0.778</td>\n",
       "      <td>0.990</td>\n",
       "      <td>0.948</td>\n",
       "      <td>0.909</td>\n",
       "      <td>0.007</td>\n",
       "      <td>0.003</td>\n",
       "      <td>0.826</td>\n",
       "      <td>0.999</td>\n",
       "      <td>SEKER</td>\n",
       "    </tr>\n",
       "    <tr>\n",
       "      <th>3</th>\n",
       "      <td>30008</td>\n",
       "      <td>645.884</td>\n",
       "      <td>210.558</td>\n",
       "      <td>182.517</td>\n",
       "      <td>1.154</td>\n",
       "      <td>0.499</td>\n",
       "      <td>30724</td>\n",
       "      <td>195.467</td>\n",
       "      <td>0.783</td>\n",
       "      <td>0.977</td>\n",
       "      <td>0.904</td>\n",
       "      <td>0.928</td>\n",
       "      <td>0.007</td>\n",
       "      <td>0.003</td>\n",
       "      <td>0.862</td>\n",
       "      <td>0.994</td>\n",
       "      <td>SEKER</td>\n",
       "    </tr>\n",
       "    <tr>\n",
       "      <th>4</th>\n",
       "      <td>30140</td>\n",
       "      <td>620.134</td>\n",
       "      <td>201.848</td>\n",
       "      <td>190.279</td>\n",
       "      <td>1.061</td>\n",
       "      <td>0.334</td>\n",
       "      <td>30417</td>\n",
       "      <td>195.897</td>\n",
       "      <td>0.773</td>\n",
       "      <td>0.991</td>\n",
       "      <td>0.985</td>\n",
       "      <td>0.971</td>\n",
       "      <td>0.007</td>\n",
       "      <td>0.004</td>\n",
       "      <td>0.942</td>\n",
       "      <td>0.999</td>\n",
       "      <td>SEKER</td>\n",
       "    </tr>\n",
       "  </tbody>\n",
       "</table>\n",
       "</div>"
      ],
      "text/plain": [
       "    Area  Perimeter  MajorAxisLength  MinorAxisLength  AspectRatio  \\\n",
       "0  28395    610.291          208.178          173.889        1.197   \n",
       "1  28734    638.018          200.525          182.734        1.097   \n",
       "2  29380    624.110          212.826          175.931        1.210   \n",
       "3  30008    645.884          210.558          182.517        1.154   \n",
       "4  30140    620.134          201.848          190.279        1.061   \n",
       "\n",
       "   Eccentricity  ConvexArea  EquivDiameter  Extent  Solidity  Roundness  \\\n",
       "0         0.550       28715        190.141   0.764     0.989      0.958   \n",
       "1         0.412       29172        191.273   0.784     0.985      0.887   \n",
       "2         0.563       29690        193.411   0.778     0.990      0.948   \n",
       "3         0.499       30724        195.467   0.783     0.977      0.904   \n",
       "4         0.334       30417        195.897   0.773     0.991      0.985   \n",
       "\n",
       "   Compactness  ShapeFactor1  ShapeFactor2  ShapeFactor3  ShapeFactor4  Class  \n",
       "0        0.913         0.007         0.003         0.834         0.999  SEKER  \n",
       "1        0.954         0.007         0.004         0.910         0.998  SEKER  \n",
       "2        0.909         0.007         0.003         0.826         0.999  SEKER  \n",
       "3        0.928         0.007         0.003         0.862         0.994  SEKER  \n",
       "4        0.971         0.007         0.004         0.942         0.999  SEKER  "
      ]
     },
     "execution_count": 6,
     "metadata": {},
     "output_type": "execute_result"
    }
   ],
   "source": [
    "df = pd.read_csv(\"../data/dry_bean.csv\")\n",
    "df.head()"
   ]
  },
  {
   "cell_type": "code",
   "execution_count": 7,
   "metadata": {},
   "outputs": [
    {
     "data": {
      "text/plain": [
       "(13611, 17)"
      ]
     },
     "execution_count": 7,
     "metadata": {},
     "output_type": "execute_result"
    }
   ],
   "source": [
    "df.shape"
   ]
  },
  {
   "cell_type": "code",
   "execution_count": 8,
   "metadata": {},
   "outputs": [
    {
     "name": "stdout",
     "output_type": "stream",
     "text": [
      "Sum of null values in dataset: 0\n"
     ]
    }
   ],
   "source": [
    "print(f\"Sum of null values in dataset: {df.isnull().sum().sum()}\")"
   ]
  },
  {
   "cell_type": "code",
   "execution_count": 9,
   "metadata": {},
   "outputs": [
    {
     "data": {
      "text/html": [
       "<div>\n",
       "<style scoped>\n",
       "    .dataframe tbody tr th:only-of-type {\n",
       "        vertical-align: middle;\n",
       "    }\n",
       "\n",
       "    .dataframe tbody tr th {\n",
       "        vertical-align: top;\n",
       "    }\n",
       "\n",
       "    .dataframe thead th {\n",
       "        text-align: right;\n",
       "    }\n",
       "</style>\n",
       "<table border=\"1\" class=\"dataframe\">\n",
       "  <thead>\n",
       "    <tr style=\"text-align: right;\">\n",
       "      <th></th>\n",
       "      <th>Area</th>\n",
       "      <th>Perimeter</th>\n",
       "      <th>MajorAxisLength</th>\n",
       "      <th>MinorAxisLength</th>\n",
       "      <th>AspectRatio</th>\n",
       "      <th>Eccentricity</th>\n",
       "      <th>ConvexArea</th>\n",
       "      <th>EquivDiameter</th>\n",
       "      <th>Extent</th>\n",
       "      <th>Solidity</th>\n",
       "      <th>Roundness</th>\n",
       "      <th>Compactness</th>\n",
       "      <th>ShapeFactor1</th>\n",
       "      <th>ShapeFactor2</th>\n",
       "      <th>ShapeFactor3</th>\n",
       "      <th>ShapeFactor4</th>\n",
       "    </tr>\n",
       "  </thead>\n",
       "  <tbody>\n",
       "    <tr>\n",
       "      <th>count</th>\n",
       "      <td>13611.000</td>\n",
       "      <td>13611.000</td>\n",
       "      <td>13611.000</td>\n",
       "      <td>13611.000</td>\n",
       "      <td>13611.000</td>\n",
       "      <td>13611.000</td>\n",
       "      <td>13611.000</td>\n",
       "      <td>13611.000</td>\n",
       "      <td>13611.000</td>\n",
       "      <td>13611.000</td>\n",
       "      <td>13611.000</td>\n",
       "      <td>13611.000</td>\n",
       "      <td>13611.000</td>\n",
       "      <td>13611.000</td>\n",
       "      <td>13611.000</td>\n",
       "      <td>13611.000</td>\n",
       "    </tr>\n",
       "    <tr>\n",
       "      <th>mean</th>\n",
       "      <td>53048.285</td>\n",
       "      <td>855.283</td>\n",
       "      <td>320.142</td>\n",
       "      <td>202.271</td>\n",
       "      <td>1.583</td>\n",
       "      <td>0.751</td>\n",
       "      <td>53768.200</td>\n",
       "      <td>253.064</td>\n",
       "      <td>0.750</td>\n",
       "      <td>0.987</td>\n",
       "      <td>0.873</td>\n",
       "      <td>0.800</td>\n",
       "      <td>0.007</td>\n",
       "      <td>0.002</td>\n",
       "      <td>0.644</td>\n",
       "      <td>0.995</td>\n",
       "    </tr>\n",
       "    <tr>\n",
       "      <th>std</th>\n",
       "      <td>29324.096</td>\n",
       "      <td>214.290</td>\n",
       "      <td>85.694</td>\n",
       "      <td>44.970</td>\n",
       "      <td>0.247</td>\n",
       "      <td>0.092</td>\n",
       "      <td>29774.916</td>\n",
       "      <td>59.177</td>\n",
       "      <td>0.049</td>\n",
       "      <td>0.005</td>\n",
       "      <td>0.060</td>\n",
       "      <td>0.062</td>\n",
       "      <td>0.001</td>\n",
       "      <td>0.001</td>\n",
       "      <td>0.099</td>\n",
       "      <td>0.004</td>\n",
       "    </tr>\n",
       "    <tr>\n",
       "      <th>min</th>\n",
       "      <td>20420.000</td>\n",
       "      <td>524.736</td>\n",
       "      <td>183.601</td>\n",
       "      <td>122.513</td>\n",
       "      <td>1.025</td>\n",
       "      <td>0.219</td>\n",
       "      <td>20684.000</td>\n",
       "      <td>161.244</td>\n",
       "      <td>0.555</td>\n",
       "      <td>0.919</td>\n",
       "      <td>0.490</td>\n",
       "      <td>0.641</td>\n",
       "      <td>0.003</td>\n",
       "      <td>0.001</td>\n",
       "      <td>0.410</td>\n",
       "      <td>0.948</td>\n",
       "    </tr>\n",
       "    <tr>\n",
       "      <th>25%</th>\n",
       "      <td>36328.000</td>\n",
       "      <td>703.524</td>\n",
       "      <td>253.304</td>\n",
       "      <td>175.848</td>\n",
       "      <td>1.432</td>\n",
       "      <td>0.716</td>\n",
       "      <td>36714.500</td>\n",
       "      <td>215.068</td>\n",
       "      <td>0.719</td>\n",
       "      <td>0.986</td>\n",
       "      <td>0.832</td>\n",
       "      <td>0.762</td>\n",
       "      <td>0.006</td>\n",
       "      <td>0.001</td>\n",
       "      <td>0.581</td>\n",
       "      <td>0.994</td>\n",
       "    </tr>\n",
       "    <tr>\n",
       "      <th>50%</th>\n",
       "      <td>44652.000</td>\n",
       "      <td>794.941</td>\n",
       "      <td>296.883</td>\n",
       "      <td>192.432</td>\n",
       "      <td>1.551</td>\n",
       "      <td>0.764</td>\n",
       "      <td>45178.000</td>\n",
       "      <td>238.438</td>\n",
       "      <td>0.760</td>\n",
       "      <td>0.988</td>\n",
       "      <td>0.883</td>\n",
       "      <td>0.801</td>\n",
       "      <td>0.007</td>\n",
       "      <td>0.002</td>\n",
       "      <td>0.642</td>\n",
       "      <td>0.996</td>\n",
       "    </tr>\n",
       "    <tr>\n",
       "      <th>75%</th>\n",
       "      <td>61332.000</td>\n",
       "      <td>977.213</td>\n",
       "      <td>376.495</td>\n",
       "      <td>217.032</td>\n",
       "      <td>1.707</td>\n",
       "      <td>0.810</td>\n",
       "      <td>62294.000</td>\n",
       "      <td>279.446</td>\n",
       "      <td>0.787</td>\n",
       "      <td>0.990</td>\n",
       "      <td>0.917</td>\n",
       "      <td>0.834</td>\n",
       "      <td>0.007</td>\n",
       "      <td>0.002</td>\n",
       "      <td>0.696</td>\n",
       "      <td>0.998</td>\n",
       "    </tr>\n",
       "    <tr>\n",
       "      <th>max</th>\n",
       "      <td>254616.000</td>\n",
       "      <td>1985.370</td>\n",
       "      <td>738.860</td>\n",
       "      <td>460.198</td>\n",
       "      <td>2.430</td>\n",
       "      <td>0.911</td>\n",
       "      <td>263261.000</td>\n",
       "      <td>569.374</td>\n",
       "      <td>0.866</td>\n",
       "      <td>0.995</td>\n",
       "      <td>0.991</td>\n",
       "      <td>0.987</td>\n",
       "      <td>0.010</td>\n",
       "      <td>0.004</td>\n",
       "      <td>0.975</td>\n",
       "      <td>1.000</td>\n",
       "    </tr>\n",
       "  </tbody>\n",
       "</table>\n",
       "</div>"
      ],
      "text/plain": [
       "            Area  Perimeter  MajorAxisLength  MinorAxisLength  AspectRatio  \\\n",
       "count  13611.000  13611.000        13611.000        13611.000    13611.000   \n",
       "mean   53048.285    855.283          320.142          202.271        1.583   \n",
       "std    29324.096    214.290           85.694           44.970        0.247   \n",
       "min    20420.000    524.736          183.601          122.513        1.025   \n",
       "25%    36328.000    703.524          253.304          175.848        1.432   \n",
       "50%    44652.000    794.941          296.883          192.432        1.551   \n",
       "75%    61332.000    977.213          376.495          217.032        1.707   \n",
       "max   254616.000   1985.370          738.860          460.198        2.430   \n",
       "\n",
       "       Eccentricity  ConvexArea  EquivDiameter    Extent  Solidity  Roundness  \\\n",
       "count     13611.000   13611.000      13611.000 13611.000 13611.000  13611.000   \n",
       "mean          0.751   53768.200        253.064     0.750     0.987      0.873   \n",
       "std           0.092   29774.916         59.177     0.049     0.005      0.060   \n",
       "min           0.219   20684.000        161.244     0.555     0.919      0.490   \n",
       "25%           0.716   36714.500        215.068     0.719     0.986      0.832   \n",
       "50%           0.764   45178.000        238.438     0.760     0.988      0.883   \n",
       "75%           0.810   62294.000        279.446     0.787     0.990      0.917   \n",
       "max           0.911  263261.000        569.374     0.866     0.995      0.991   \n",
       "\n",
       "       Compactness  ShapeFactor1  ShapeFactor2  ShapeFactor3  ShapeFactor4  \n",
       "count    13611.000     13611.000     13611.000     13611.000     13611.000  \n",
       "mean         0.800         0.007         0.002         0.644         0.995  \n",
       "std          0.062         0.001         0.001         0.099         0.004  \n",
       "min          0.641         0.003         0.001         0.410         0.948  \n",
       "25%          0.762         0.006         0.001         0.581         0.994  \n",
       "50%          0.801         0.007         0.002         0.642         0.996  \n",
       "75%          0.834         0.007         0.002         0.696         0.998  \n",
       "max          0.987         0.010         0.004         0.975         1.000  "
      ]
     },
     "execution_count": 9,
     "metadata": {},
     "output_type": "execute_result"
    }
   ],
   "source": [
    "df.describe()"
   ]
  },
  {
   "cell_type": "code",
   "execution_count": 27,
   "metadata": {},
   "outputs": [
    {
     "data": {
      "image/png": "[encoded data removed]",
      "text/plain": [
       "<Figure size 1500x1200 with 16 Axes>"
      ]
     },
     "metadata": {},
     "output_type": "display_data"
    }
   ],
   "source": [
    "df.hist(bins=30, figsize=(15,12))\n",
    "plt.show()"
   ]
  },
  {
   "cell_type": "code",
   "execution_count": null,
   "metadata": {},
   "outputs": [],
   "source": [
    "plt.figure(figsize=(10, 10))\n",
    "sns.heatmap(df.corr(), annot=True, fmt=\".2f\", cmap='crest')"
   ]
  },
  {
   "cell_type": "code",
   "execution_count": null,
   "metadata": {},
   "outputs": [],
   "source": []
  },
  {
   "cell_type": "markdown",
   "metadata": {},
   "source": [
    "**Label Encoding**\n",
    "\n",
    "The \"Class\" column contains string values, so we need to convert these labels into a numeric form using label encoding."
   ]
  },
  {
   "cell_type": "code",
   "execution_count": 10,
   "metadata": {},
   "outputs": [],
   "source": [
    "from sklearn.preprocessing import LabelEncoder\n",
    "labelencoder = LabelEncoder()\n",
    "df[\"Class\"] = labelencoder.fit_transform(df['Class'])"
   ]
  },
  {
   "cell_type": "code",
   "execution_count": 45,
   "metadata": {},
   "outputs": [],
   "source": [
    "from sklearn.model_selection import train_test_split\n",
    "from imblearn.over_sampling import SMOTE\n",
    "\n",
    "# Split the data into features and label\n",
    "X = df.drop(columns='Class')\n",
    "y = df['Class']\n",
    "\n",
    "# split dataset into train, test and validation\n",
    "X_train, X_temp, y_train, y_temp = train_test_split(X, y, test_size=0.3, random_state=42, stratify = y)\n",
    "\n",
    "X_val, X_test, y_val, y_test = train_test_split(X_temp, y_temp, test_size=0.4, random_state=42, stratify = y_temp)"
   ]
  },
  {
   "cell_type": "code",
   "execution_count": 46,
   "metadata": {},
   "outputs": [
    {
     "name": "stdout",
     "output_type": "stream",
     "text": [
      "X_train shape: (9527, 16), y_train: (9527,)\n",
      "X_val shape: (2450, 16), y_val: (2450,)\n",
      "X_test shape: (1634, 16), y_test: (1634,)\n"
     ]
    }
   ],
   "source": [
    "print(f'X_train shape: {X_train.shape}, y_train: {y_train.shape}')\n",
    "print(f'X_val shape: {X_val.shape}, y_val: {y_val.shape}')\n",
    "print(f'X_test shape: {X_test.shape}, y_test: {y_test.shape}')"
   ]
  },
  {
   "cell_type": "markdown",
   "metadata": {},
   "source": [
    "#### Sampling techniques"
   ]
  },
  {
   "cell_type": "code",
   "execution_count": 47,
   "metadata": {},
   "outputs": [
    {
     "name": "stdout",
     "output_type": "stream",
     "text": [
      "After SMOTE: 17374 17374\n"
     ]
    }
   ],
   "source": [
    "# Our dataset has an imbalance in class labels. To prevent this from negatively impacting model performance, we need to address this issue.\n",
    "\n",
    "smote = SMOTE(random_state=42)\n",
    "X_train_res, y_train_res = smote.fit_resample(X_train, y_train)\n",
    "\n",
    "print(\"After SMOTE:\", len(X_train_res), len(y_train_res))\n"
   ]
  },
  {
   "cell_type": "code",
   "execution_count": 48,
   "metadata": {},
   "outputs": [
    {
     "data": {
      "text/plain": [
       "(17374, 16)"
      ]
     },
     "execution_count": 48,
     "metadata": {},
     "output_type": "execute_result"
    }
   ],
   "source": [
    "X_train_res.shape"
   ]
  },
  {
   "cell_type": "markdown",
   "metadata": {},
   "source": [
    "#### Standardization"
   ]
  },
  {
   "cell_type": "code",
   "execution_count": 49,
   "metadata": {},
   "outputs": [],
   "source": [
    "from sklearn.preprocessing import StandardScaler\n",
    "scaler = StandardScaler()\n",
    "X_train_res = scaler.fit_transform(X_train_res)\n",
    "X_val = scaler.transform(X_val)"
   ]
  },
  {
   "cell_type": "code",
   "execution_count": 50,
   "metadata": {},
   "outputs": [],
   "source": [
    "# Model training\n",
    "from sklearn.ensemble import RandomForestClassifier\n",
    "from sklearn.linear_model import LogisticRegression\n",
    "\n",
    "forest = RandomForestClassifier(n_estimators=10, \n",
    "                                random_state=42, \n",
    "                                max_depth=8, \n",
    "                                max_features=5, \n",
    "                                min_samples_leaf=5)\n",
    "\n",
    "forest.fit(X_train_res, y_train_res)\n",
    "y_pred = forest.predict(X_val)"
   ]
  },
  {
   "cell_type": "code",
   "execution_count": 52,
   "metadata": {},
   "outputs": [
    {
     "name": "stdout",
     "output_type": "stream",
     "text": [
      "Accuracy: 0.91878\n",
      "              precision    recall  f1-score   support\n",
      "\n",
      "    BARBUNYA       0.93      0.89      0.91       238\n",
      "      BOMBAY       1.00      1.00      1.00        94\n",
      "        CALI       0.93      0.93      0.93       293\n",
      "    DERMASON       0.92      0.90      0.91       638\n",
      "       HOROZ       0.97      0.96      0.96       347\n",
      "       SEKER       0.92      0.94      0.93       365\n",
      "        SIRA       0.85      0.88      0.87       475\n",
      "\n",
      "    accuracy                           0.92      2450\n",
      "   macro avg       0.93      0.93      0.93      2450\n",
      "weighted avg       0.92      0.92      0.92      2450\n",
      "\n"
     ]
    }
   ],
   "source": [
    "from sklearn.metrics import roc_auc_score, classification_report, accuracy_score\n",
    "\n",
    "print('Accuracy: %.5f' % accuracy_score(y_val, y_pred))\n",
    "print(classification_report(y_val, y_pred, target_names=np.unique(labelencoder.inverse_transform(df[\"Class\"]))))"
   ]
  },
  {
   "cell_type": "code",
   "execution_count": 61,
   "metadata": {},
   "outputs": [
    {
     "data": {
      "text/plain": [
       "numpy.ndarray"
      ]
     },
     "execution_count": 61,
     "metadata": {},
     "output_type": "execute_result"
    }
   ],
   "source": [
    "type(X_train_res)"
   ]
  },
  {
   "cell_type": "code",
   "execution_count": 56,
   "metadata": {},
   "outputs": [],
   "source": [
    "from typing import Union\n",
    "from sklearn.linear_model import LogisticRegression\n",
    "from sklearn.ensemble import RandomForestClassifier\n",
    "from xgboost import XGBClassifier\n",
    "from sklearn.model_selection import RandomizedSearchCV, KFold\n",
    "\n",
    "def random_search_hyperparameter_tuning_classification(X:Union[np.array, pd.DataFrame], y:pd.Series)->pd.DataFrame:\n",
    "    param = {\n",
    "        'Logistic_Regression': {\n",
    "            'model': LogisticRegression(),\n",
    "            'params': {\n",
    "                'penalty': ['l1', 'l2', 'elasticnet'],\n",
    "                'C': [0.01, 0.1, 1],\n",
    "                'solver': ['newton-cg', 'lbfgs', 'liblinear']\n",
    "            }\n",
    "        },\n",
    "        'Random_Forest': {\n",
    "            'model': RandomForestClassifier(),\n",
    "            'params': {\n",
    "                'n_estimators': [10, 50, 100, 200],\n",
    "                'max_features': ['auto', 'sqrt', 'log2'],\n",
    "                'max_depth': [None, 10, 20, 30, 40, 50],\n",
    "                'criterion': ['gini', 'entropy']\n",
    "            }\n",
    "        },\n",
    "        'XGBoost': {\n",
    "            'model': XGBClassifier(),\n",
    "            'params': {\n",
    "                'n_estimators': [50, 100, 150],\n",
    "                'learning_rate': [0.01, 0.1, 0.2],\n",
    "                'max_depth': [3, 5, 7, 9],\n",
    "                'subsample': [0.6, 0.8, 1.0],\n",
    "                'colsample_bytree': [0.6, 0.8, 1.0]\n",
    "            }\n",
    "        }\n",
    "    }\n",
    "\n",
    "    results = []\n",
    "\n",
    "    kf = KFold(n_splits=5, shuffle=True, random_state=20)\n",
    "    for key, values in param.items():\n",
    "        random_search = RandomizedSearchCV(values['model'], values['params'], cv=kf, return_train_score=False, refit=True)\n",
    "        random_search.fit(X, y)\n",
    "        results.append({\n",
    "            'model_name': key,\n",
    "            'best_score': random_search.best_score_,\n",
    "            'best_param': random_search.best_params_\n",
    "        })\n",
    "    return pd.DataFrame(results, columns=['model_name', 'best_score', 'best_param'])\n"
   ]
  },
  {
   "cell_type": "code",
   "execution_count": 57,
   "metadata": {},
   "outputs": [
    {
     "data": {
      "text/html": [
       "<div>\n",
       "<style scoped>\n",
       "    .dataframe tbody tr th:only-of-type {\n",
       "        vertical-align: middle;\n",
       "    }\n",
       "\n",
       "    .dataframe tbody tr th {\n",
       "        vertical-align: top;\n",
       "    }\n",
       "\n",
       "    .dataframe thead th {\n",
       "        text-align: right;\n",
       "    }\n",
       "</style>\n",
       "<table border=\"1\" class=\"dataframe\">\n",
       "  <thead>\n",
       "    <tr style=\"text-align: right;\">\n",
       "      <th></th>\n",
       "      <th>model_name</th>\n",
       "      <th>best_score</th>\n",
       "      <th>best_param</th>\n",
       "    </tr>\n",
       "  </thead>\n",
       "  <tbody>\n",
       "    <tr>\n",
       "      <th>0</th>\n",
       "      <td>Logistic_Regression</td>\n",
       "      <td>0.938</td>\n",
       "      <td>{'solver': 'liblinear', 'penalty': 'l1', 'C': ...</td>\n",
       "    </tr>\n",
       "    <tr>\n",
       "      <th>1</th>\n",
       "      <td>Random_Forest</td>\n",
       "      <td>0.957</td>\n",
       "      <td>{'n_estimators': 200, 'max_features': 'sqrt', ...</td>\n",
       "    </tr>\n",
       "    <tr>\n",
       "      <th>2</th>\n",
       "      <td>XGBoost</td>\n",
       "      <td>0.959</td>\n",
       "      <td>{'subsample': 0.8, 'n_estimators': 100, 'max_d...</td>\n",
       "    </tr>\n",
       "  </tbody>\n",
       "</table>\n",
       "</div>"
      ],
      "text/plain": [
       "            model_name  best_score  \\\n",
       "0  Logistic_Regression       0.938   \n",
       "1        Random_Forest       0.957   \n",
       "2              XGBoost       0.959   \n",
       "\n",
       "                                          best_param  \n",
       "0  {'solver': 'liblinear', 'penalty': 'l1', 'C': ...  \n",
       "1  {'n_estimators': 200, 'max_features': 'sqrt', ...  \n",
       "2  {'subsample': 0.8, 'n_estimators': 100, 'max_d...  "
      ]
     },
     "execution_count": 57,
     "metadata": {},
     "output_type": "execute_result"
    }
   ],
   "source": [
    "random_search_hyperparameter_tuning_classification(X_train_res, y_train_res)"
   ]
  },
  {
   "cell_type": "code",
   "execution_count": null,
   "metadata": {},
   "outputs": [],
   "source": [
    "#mlflow.set_experiment(\"Kwizat-Haderach\")\n",
    "\n",
    "with mlflow.start_run():\n",
    "\n",
    "    params = {\"C\": 0.1, \"random_state\": 42}\n",
    "    mlflow.log_params(params)\n",
    "\n",
    "    lr = LogisticRegression(**params)\n",
    "    lr.fit(X_train_scaled, y_train)\n",
    "    y_preds = lr.predict(X_test_scaled)\n",
    "\n",
    "    mlflow.log_metric(\"accuracy\", accuracy_score(y_test, y_preds)) \n",
    "\n",
    "    mlflow.sklearn.log_model(lr, artifact_path=\"models\")"
   ]
  },
  {
   "cell_type": "code",
   "execution_count": 142,
   "metadata": {},
   "outputs": [],
   "source": [
    "from mlflow import MlflowClient\n",
    "\n",
    "#mlflow.get_artifact_uri()"
   ]
  },
  {
   "cell_type": "code",
   "execution_count": null,
   "metadata": {},
   "outputs": [],
   "source": []
  }
 ],
 "metadata": {
  "kernelspec": {
   "display_name": "mlops-project",
   "language": "python",
   "name": "python3"
  },
  "language_info": {
   "codemirror_mode": {
    "name": "ipython",
    "version": 3
   },
   "file_extension": ".py",
   "mimetype": "text/x-python",
   "name": "python",
   "nbconvert_exporter": "python",
   "pygments_lexer": "ipython3",
   "version": "3.12.4"
  }
 },
 "nbformat": 4,
 "nbformat_minor": 2
}
