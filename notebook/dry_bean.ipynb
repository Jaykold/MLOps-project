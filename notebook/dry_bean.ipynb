{
 "cells": [
  {
   "cell_type": "code",
   "execution_count": 1,
   "metadata": {},
   "outputs": [],
   "source": [
    "import  pandas as pd\n",
    "import numpy as np\n",
    "import matplotlib.pyplot as plt\n",
    "import seaborn as sns\n",
    "from tqdm import tqdm\n",
    "import time\n",
    "import os\n",
    "\n",
    "\n",
    "import warnings\n",
    "warnings.filterwarnings(\"ignore\")\n",
    "\n",
    "pd.set_option('display.float_format', lambda x: '%.3f' % x)"
   ]
  },
  {
   "cell_type": "code",
   "execution_count": 2,
   "metadata": {},
   "outputs": [
    {
     "name": "stdout",
     "output_type": "stream",
     "text": [
      "Python 3.12.4\n"
     ]
    }
   ],
   "source": [
    "!python -V"
   ]
  },
  {
   "cell_type": "code",
   "execution_count": 11,
   "metadata": {},
   "outputs": [
    {
     "name": "stderr",
     "output_type": "stream",
     "text": [
      "Fetching dataset ID: 602: 100%|██████████| 100/100 [00:23<00:00,  4.32%/s]\n"
     ]
    }
   ],
   "source": [
    "from ucimlrepo import fetch_ucirepo \n",
    "\n",
    "total_steps = 100  # Number of steps to complete\n",
    "id = 602  # Dataset ID to fetch\n",
    "\n",
    "\n",
    "with tqdm(total=total_steps, unit='%', desc=f\"Fetching dataset ID: {id}\") as pbar:\n",
    "        for _ in range(total_steps):\n",
    "            time.sleep(0.05)  # Simulate some delay for the progress bar\n",
    "            pbar.update(1)  # Update progress bar by 1 step\n",
    "            if _ == total_steps // 2:\n",
    "                dry_bean = fetch_ucirepo(id=id) # fetch dataset\n",
    "  \n",
    "# data (as pandas dataframes) \n",
    "X = dry_bean.data.features \n",
    "y = dry_bean.data.targets\n"
   ]
  },
  {
   "cell_type": "code",
   "execution_count": 44,
   "metadata": {},
   "outputs": [],
   "source": [
    "# with open('../data/dry_bean.csv', 'w') as f:\n",
    "#     dry_bean.to_csv(f, index=False)"
   ]
  },
  {
   "cell_type": "code",
   "execution_count": null,
   "metadata": {},
   "outputs": [],
   "source": [
    "df = pd.concat([X, y], axis=1)\n",
    "df.head()"
   ]
  },
  {
   "cell_type": "code",
   "execution_count": 2,
   "metadata": {},
   "outputs": [],
   "source": [
    "df = pd.read_csv('data/dry_bean.csv')"
   ]
  },
  {
   "cell_type": "code",
   "execution_count": 3,
   "metadata": {},
   "outputs": [
    {
     "data": {
      "text/plain": [
       "(13611, 17)"
      ]
     },
     "execution_count": 3,
     "metadata": {},
     "output_type": "execute_result"
    }
   ],
   "source": [
    "df.shape"
   ]
  },
  {
   "cell_type": "code",
   "execution_count": 4,
   "metadata": {},
   "outputs": [
    {
     "name": "stdout",
     "output_type": "stream",
     "text": [
      "Sum of null values in dataset: 0\n"
     ]
    }
   ],
   "source": [
    "print(f\"Sum of null values in dataset: {df.isnull().sum().sum()}\")"
   ]
  },
  {
   "cell_type": "code",
   "execution_count": 5,
   "metadata": {},
   "outputs": [
    {
     "data": {
      "text/html": [
       "<div>\n",
       "<style scoped>\n",
       "    .dataframe tbody tr th:only-of-type {\n",
       "        vertical-align: middle;\n",
       "    }\n",
       "\n",
       "    .dataframe tbody tr th {\n",
       "        vertical-align: top;\n",
       "    }\n",
       "\n",
       "    .dataframe thead th {\n",
       "        text-align: right;\n",
       "    }\n",
       "</style>\n",
       "<table border=\"1\" class=\"dataframe\">\n",
       "  <thead>\n",
       "    <tr style=\"text-align: right;\">\n",
       "      <th></th>\n",
       "      <th>Area</th>\n",
       "      <th>Perimeter</th>\n",
       "      <th>MajorAxisLength</th>\n",
       "      <th>MinorAxisLength</th>\n",
       "      <th>AspectRatio</th>\n",
       "      <th>Eccentricity</th>\n",
       "      <th>ConvexArea</th>\n",
       "      <th>EquivDiameter</th>\n",
       "      <th>Extent</th>\n",
       "      <th>Solidity</th>\n",
       "      <th>Roundness</th>\n",
       "      <th>Compactness</th>\n",
       "      <th>ShapeFactor1</th>\n",
       "      <th>ShapeFactor2</th>\n",
       "      <th>ShapeFactor3</th>\n",
       "      <th>ShapeFactor4</th>\n",
       "    </tr>\n",
       "  </thead>\n",
       "  <tbody>\n",
       "    <tr>\n",
       "      <th>count</th>\n",
       "      <td>13611.000</td>\n",
       "      <td>13611.000</td>\n",
       "      <td>13611.000</td>\n",
       "      <td>13611.000</td>\n",
       "      <td>13611.000</td>\n",
       "      <td>13611.000</td>\n",
       "      <td>13611.000</td>\n",
       "      <td>13611.000</td>\n",
       "      <td>13611.000</td>\n",
       "      <td>13611.000</td>\n",
       "      <td>13611.000</td>\n",
       "      <td>13611.000</td>\n",
       "      <td>13611.000</td>\n",
       "      <td>13611.000</td>\n",
       "      <td>13611.000</td>\n",
       "      <td>13611.000</td>\n",
       "    </tr>\n",
       "    <tr>\n",
       "      <th>mean</th>\n",
       "      <td>53048.285</td>\n",
       "      <td>855.283</td>\n",
       "      <td>320.142</td>\n",
       "      <td>202.271</td>\n",
       "      <td>1.583</td>\n",
       "      <td>0.751</td>\n",
       "      <td>53768.200</td>\n",
       "      <td>253.064</td>\n",
       "      <td>0.750</td>\n",
       "      <td>0.987</td>\n",
       "      <td>0.873</td>\n",
       "      <td>0.800</td>\n",
       "      <td>0.007</td>\n",
       "      <td>0.002</td>\n",
       "      <td>0.644</td>\n",
       "      <td>0.995</td>\n",
       "    </tr>\n",
       "    <tr>\n",
       "      <th>std</th>\n",
       "      <td>29324.096</td>\n",
       "      <td>214.290</td>\n",
       "      <td>85.694</td>\n",
       "      <td>44.970</td>\n",
       "      <td>0.247</td>\n",
       "      <td>0.092</td>\n",
       "      <td>29774.916</td>\n",
       "      <td>59.177</td>\n",
       "      <td>0.049</td>\n",
       "      <td>0.005</td>\n",
       "      <td>0.060</td>\n",
       "      <td>0.062</td>\n",
       "      <td>0.001</td>\n",
       "      <td>0.001</td>\n",
       "      <td>0.099</td>\n",
       "      <td>0.004</td>\n",
       "    </tr>\n",
       "    <tr>\n",
       "      <th>min</th>\n",
       "      <td>20420.000</td>\n",
       "      <td>524.736</td>\n",
       "      <td>183.601</td>\n",
       "      <td>122.513</td>\n",
       "      <td>1.025</td>\n",
       "      <td>0.219</td>\n",
       "      <td>20684.000</td>\n",
       "      <td>161.244</td>\n",
       "      <td>0.555</td>\n",
       "      <td>0.919</td>\n",
       "      <td>0.490</td>\n",
       "      <td>0.641</td>\n",
       "      <td>0.003</td>\n",
       "      <td>0.001</td>\n",
       "      <td>0.410</td>\n",
       "      <td>0.948</td>\n",
       "    </tr>\n",
       "    <tr>\n",
       "      <th>25%</th>\n",
       "      <td>36328.000</td>\n",
       "      <td>703.524</td>\n",
       "      <td>253.304</td>\n",
       "      <td>175.848</td>\n",
       "      <td>1.432</td>\n",
       "      <td>0.716</td>\n",
       "      <td>36714.500</td>\n",
       "      <td>215.068</td>\n",
       "      <td>0.719</td>\n",
       "      <td>0.986</td>\n",
       "      <td>0.832</td>\n",
       "      <td>0.762</td>\n",
       "      <td>0.006</td>\n",
       "      <td>0.001</td>\n",
       "      <td>0.581</td>\n",
       "      <td>0.994</td>\n",
       "    </tr>\n",
       "    <tr>\n",
       "      <th>50%</th>\n",
       "      <td>44652.000</td>\n",
       "      <td>794.941</td>\n",
       "      <td>296.883</td>\n",
       "      <td>192.432</td>\n",
       "      <td>1.551</td>\n",
       "      <td>0.764</td>\n",
       "      <td>45178.000</td>\n",
       "      <td>238.438</td>\n",
       "      <td>0.760</td>\n",
       "      <td>0.988</td>\n",
       "      <td>0.883</td>\n",
       "      <td>0.801</td>\n",
       "      <td>0.007</td>\n",
       "      <td>0.002</td>\n",
       "      <td>0.642</td>\n",
       "      <td>0.996</td>\n",
       "    </tr>\n",
       "    <tr>\n",
       "      <th>75%</th>\n",
       "      <td>61332.000</td>\n",
       "      <td>977.213</td>\n",
       "      <td>376.495</td>\n",
       "      <td>217.032</td>\n",
       "      <td>1.707</td>\n",
       "      <td>0.810</td>\n",
       "      <td>62294.000</td>\n",
       "      <td>279.446</td>\n",
       "      <td>0.787</td>\n",
       "      <td>0.990</td>\n",
       "      <td>0.917</td>\n",
       "      <td>0.834</td>\n",
       "      <td>0.007</td>\n",
       "      <td>0.002</td>\n",
       "      <td>0.696</td>\n",
       "      <td>0.998</td>\n",
       "    </tr>\n",
       "    <tr>\n",
       "      <th>max</th>\n",
       "      <td>254616.000</td>\n",
       "      <td>1985.370</td>\n",
       "      <td>738.860</td>\n",
       "      <td>460.198</td>\n",
       "      <td>2.430</td>\n",
       "      <td>0.911</td>\n",
       "      <td>263261.000</td>\n",
       "      <td>569.374</td>\n",
       "      <td>0.866</td>\n",
       "      <td>0.995</td>\n",
       "      <td>0.991</td>\n",
       "      <td>0.987</td>\n",
       "      <td>0.010</td>\n",
       "      <td>0.004</td>\n",
       "      <td>0.975</td>\n",
       "      <td>1.000</td>\n",
       "    </tr>\n",
       "  </tbody>\n",
       "</table>\n",
       "</div>"
      ],
      "text/plain": [
       "            Area  Perimeter  MajorAxisLength  MinorAxisLength  AspectRatio  \\\n",
       "count  13611.000  13611.000        13611.000        13611.000    13611.000   \n",
       "mean   53048.285    855.283          320.142          202.271        1.583   \n",
       "std    29324.096    214.290           85.694           44.970        0.247   \n",
       "min    20420.000    524.736          183.601          122.513        1.025   \n",
       "25%    36328.000    703.524          253.304          175.848        1.432   \n",
       "50%    44652.000    794.941          296.883          192.432        1.551   \n",
       "75%    61332.000    977.213          376.495          217.032        1.707   \n",
       "max   254616.000   1985.370          738.860          460.198        2.430   \n",
       "\n",
       "       Eccentricity  ConvexArea  EquivDiameter    Extent  Solidity  Roundness  \\\n",
       "count     13611.000   13611.000      13611.000 13611.000 13611.000  13611.000   \n",
       "mean          0.751   53768.200        253.064     0.750     0.987      0.873   \n",
       "std           0.092   29774.916         59.177     0.049     0.005      0.060   \n",
       "min           0.219   20684.000        161.244     0.555     0.919      0.490   \n",
       "25%           0.716   36714.500        215.068     0.719     0.986      0.832   \n",
       "50%           0.764   45178.000        238.438     0.760     0.988      0.883   \n",
       "75%           0.810   62294.000        279.446     0.787     0.990      0.917   \n",
       "max           0.911  263261.000        569.374     0.866     0.995      0.991   \n",
       "\n",
       "       Compactness  ShapeFactor1  ShapeFactor2  ShapeFactor3  ShapeFactor4  \n",
       "count    13611.000     13611.000     13611.000     13611.000     13611.000  \n",
       "mean         0.800         0.007         0.002         0.644         0.995  \n",
       "std          0.062         0.001         0.001         0.099         0.004  \n",
       "min          0.641         0.003         0.001         0.410         0.948  \n",
       "25%          0.762         0.006         0.001         0.581         0.994  \n",
       "50%          0.801         0.007         0.002         0.642         0.996  \n",
       "75%          0.834         0.007         0.002         0.696         0.998  \n",
       "max          0.987         0.010         0.004         0.975         1.000  "
      ]
     },
     "execution_count": 5,
     "metadata": {},
     "output_type": "execute_result"
    }
   ],
   "source": [
    "df.describe()"
   ]
  },
  {
   "cell_type": "code",
   "execution_count": 7,
   "metadata": {},
   "outputs": [],
   "source": [
    "from sklearn.model_selection import train_test_split\n",
    "train_df, temp = train_test_split(df, test_size=0.3, random_state=42, stratify = df['Class'])\n",
    "val_df, test_df = train_test_split(temp, test_size=0.4, random_state=42, stratify = temp['Class'])"
   ]
  },
  {
   "cell_type": "code",
   "execution_count": 8,
   "metadata": {},
   "outputs": [
    {
     "name": "stdout",
     "output_type": "stream",
     "text": [
      "train shape: (9527, 17)\n",
      "val shape: (2450, 17)\n",
      "test shape: (1634, 17)\n"
     ]
    }
   ],
   "source": [
    "print(f'train shape: {train_df.shape}')\n",
    "print(f'val shape: {val_df.shape}')\n",
    "print(f'test shape: {test_df.shape}')"
   ]
  },
  {
   "cell_type": "code",
   "execution_count": 9,
   "metadata": {},
   "outputs": [],
   "source": [
    "def save_to_csv(df, file_path, filename):\n",
    "    filename = os.path.join(file_path, filename)\n",
    "    df.to_csv(filename, index=False)"
   ]
  },
  {
   "cell_type": "code",
   "execution_count": 10,
   "metadata": {},
   "outputs": [],
   "source": [
    "# Save train, test, and validation data\n",
    "\n",
    "FILE_PATH = \"data\"\n",
    "save_to_csv(train_df, FILE_PATH, \"train.csv\")\n",
    "save_to_csv(val_df, FILE_PATH, \"validate.csv\")\n",
    "save_to_csv(test_df, FILE_PATH, \"test.csv\")"
   ]
  },
  {
   "cell_type": "markdown",
   "metadata": {},
   "source": [
    "**Label Encoding**\n",
    "\n",
    "The \"Class\" column contains string values, so we need to convert these labels into a numeric form using label encoding."
   ]
  },
  {
   "cell_type": "code",
   "execution_count": 11,
   "metadata": {},
   "outputs": [],
   "source": [
    "from sklearn.preprocessing import LabelEncoder\n",
    "labelencoder = LabelEncoder()\n",
    "train_df[\"Class\"] = labelencoder.fit_transform(train_df['Class'])\n",
    "val_df[\"Class\"] = labelencoder.fit_transform(val_df['Class'])"
   ]
  },
  {
   "cell_type": "code",
   "execution_count": 12,
   "metadata": {},
   "outputs": [
    {
     "data": {
      "text/html": [
       "<div>\n",
       "<style scoped>\n",
       "    .dataframe tbody tr th:only-of-type {\n",
       "        vertical-align: middle;\n",
       "    }\n",
       "\n",
       "    .dataframe tbody tr th {\n",
       "        vertical-align: top;\n",
       "    }\n",
       "\n",
       "    .dataframe thead th {\n",
       "        text-align: right;\n",
       "    }\n",
       "</style>\n",
       "<table border=\"1\" class=\"dataframe\">\n",
       "  <thead>\n",
       "    <tr style=\"text-align: right;\">\n",
       "      <th></th>\n",
       "      <th>Area</th>\n",
       "      <th>Perimeter</th>\n",
       "      <th>MajorAxisLength</th>\n",
       "      <th>MinorAxisLength</th>\n",
       "      <th>AspectRatio</th>\n",
       "      <th>Eccentricity</th>\n",
       "      <th>ConvexArea</th>\n",
       "      <th>EquivDiameter</th>\n",
       "      <th>Extent</th>\n",
       "      <th>Solidity</th>\n",
       "      <th>Roundness</th>\n",
       "      <th>Compactness</th>\n",
       "      <th>ShapeFactor1</th>\n",
       "      <th>ShapeFactor2</th>\n",
       "      <th>ShapeFactor3</th>\n",
       "      <th>ShapeFactor4</th>\n",
       "      <th>Class</th>\n",
       "    </tr>\n",
       "  </thead>\n",
       "  <tbody>\n",
       "    <tr>\n",
       "      <th>12563</th>\n",
       "      <td>34861</td>\n",
       "      <td>699.286</td>\n",
       "      <td>257.160</td>\n",
       "      <td>172.839</td>\n",
       "      <td>1.488</td>\n",
       "      <td>0.740</td>\n",
       "      <td>35324</td>\n",
       "      <td>210.681</td>\n",
       "      <td>0.719</td>\n",
       "      <td>0.987</td>\n",
       "      <td>0.896</td>\n",
       "      <td>0.819</td>\n",
       "      <td>0.007</td>\n",
       "      <td>0.002</td>\n",
       "      <td>0.671</td>\n",
       "      <td>0.999</td>\n",
       "      <td>3</td>\n",
       "    </tr>\n",
       "    <tr>\n",
       "      <th>6172</th>\n",
       "      <td>51106</td>\n",
       "      <td>887.937</td>\n",
       "      <td>369.489</td>\n",
       "      <td>176.544</td>\n",
       "      <td>2.093</td>\n",
       "      <td>0.878</td>\n",
       "      <td>51520</td>\n",
       "      <td>255.089</td>\n",
       "      <td>0.690</td>\n",
       "      <td>0.992</td>\n",
       "      <td>0.815</td>\n",
       "      <td>0.690</td>\n",
       "      <td>0.007</td>\n",
       "      <td>0.001</td>\n",
       "      <td>0.477</td>\n",
       "      <td>0.998</td>\n",
       "      <td>4</td>\n",
       "    </tr>\n",
       "    <tr>\n",
       "      <th>1221</th>\n",
       "      <td>40504</td>\n",
       "      <td>740.479</td>\n",
       "      <td>245.542</td>\n",
       "      <td>210.426</td>\n",
       "      <td>1.167</td>\n",
       "      <td>0.515</td>\n",
       "      <td>40946</td>\n",
       "      <td>227.093</td>\n",
       "      <td>0.763</td>\n",
       "      <td>0.989</td>\n",
       "      <td>0.928</td>\n",
       "      <td>0.925</td>\n",
       "      <td>0.006</td>\n",
       "      <td>0.003</td>\n",
       "      <td>0.855</td>\n",
       "      <td>0.998</td>\n",
       "      <td>5</td>\n",
       "    </tr>\n",
       "    <tr>\n",
       "      <th>827</th>\n",
       "      <td>38222</td>\n",
       "      <td>709.963</td>\n",
       "      <td>246.271</td>\n",
       "      <td>197.704</td>\n",
       "      <td>1.246</td>\n",
       "      <td>0.596</td>\n",
       "      <td>38555</td>\n",
       "      <td>220.603</td>\n",
       "      <td>0.781</td>\n",
       "      <td>0.991</td>\n",
       "      <td>0.953</td>\n",
       "      <td>0.896</td>\n",
       "      <td>0.006</td>\n",
       "      <td>0.003</td>\n",
       "      <td>0.802</td>\n",
       "      <td>1.000</td>\n",
       "      <td>5</td>\n",
       "    </tr>\n",
       "    <tr>\n",
       "      <th>10774</th>\n",
       "      <td>27765</td>\n",
       "      <td>610.322</td>\n",
       "      <td>221.260</td>\n",
       "      <td>160.237</td>\n",
       "      <td>1.381</td>\n",
       "      <td>0.690</td>\n",
       "      <td>28057</td>\n",
       "      <td>188.020</td>\n",
       "      <td>0.810</td>\n",
       "      <td>0.990</td>\n",
       "      <td>0.937</td>\n",
       "      <td>0.850</td>\n",
       "      <td>0.008</td>\n",
       "      <td>0.003</td>\n",
       "      <td>0.722</td>\n",
       "      <td>0.997</td>\n",
       "      <td>3</td>\n",
       "    </tr>\n",
       "  </tbody>\n",
       "</table>\n",
       "</div>"
      ],
      "text/plain": [
       "        Area  Perimeter  MajorAxisLength  MinorAxisLength  AspectRatio  \\\n",
       "12563  34861    699.286          257.160          172.839        1.488   \n",
       "6172   51106    887.937          369.489          176.544        2.093   \n",
       "1221   40504    740.479          245.542          210.426        1.167   \n",
       "827    38222    709.963          246.271          197.704        1.246   \n",
       "10774  27765    610.322          221.260          160.237        1.381   \n",
       "\n",
       "       Eccentricity  ConvexArea  EquivDiameter  Extent  Solidity  Roundness  \\\n",
       "12563         0.740       35324        210.681   0.719     0.987      0.896   \n",
       "6172          0.878       51520        255.089   0.690     0.992      0.815   \n",
       "1221          0.515       40946        227.093   0.763     0.989      0.928   \n",
       "827           0.596       38555        220.603   0.781     0.991      0.953   \n",
       "10774         0.690       28057        188.020   0.810     0.990      0.937   \n",
       "\n",
       "       Compactness  ShapeFactor1  ShapeFactor2  ShapeFactor3  ShapeFactor4  \\\n",
       "12563        0.819         0.007         0.002         0.671         0.999   \n",
       "6172         0.690         0.007         0.001         0.477         0.998   \n",
       "1221         0.925         0.006         0.003         0.855         0.998   \n",
       "827          0.896         0.006         0.003         0.802         1.000   \n",
       "10774        0.850         0.008         0.003         0.722         0.997   \n",
       "\n",
       "       Class  \n",
       "12563      3  \n",
       "6172       4  \n",
       "1221       5  \n",
       "827        5  \n",
       "10774      3  "
      ]
     },
     "execution_count": 12,
     "metadata": {},
     "output_type": "execute_result"
    }
   ],
   "source": [
    "train_df.head()"
   ]
  },
  {
   "cell_type": "code",
   "execution_count": 13,
   "metadata": {},
   "outputs": [
    {
     "data": {
      "text/html": [
       "<div>\n",
       "<style scoped>\n",
       "    .dataframe tbody tr th:only-of-type {\n",
       "        vertical-align: middle;\n",
       "    }\n",
       "\n",
       "    .dataframe tbody tr th {\n",
       "        vertical-align: top;\n",
       "    }\n",
       "\n",
       "    .dataframe thead th {\n",
       "        text-align: right;\n",
       "    }\n",
       "</style>\n",
       "<table border=\"1\" class=\"dataframe\">\n",
       "  <thead>\n",
       "    <tr style=\"text-align: right;\">\n",
       "      <th></th>\n",
       "      <th>Area</th>\n",
       "      <th>Perimeter</th>\n",
       "      <th>MajorAxisLength</th>\n",
       "      <th>MinorAxisLength</th>\n",
       "      <th>AspectRatio</th>\n",
       "      <th>Eccentricity</th>\n",
       "      <th>ConvexArea</th>\n",
       "      <th>EquivDiameter</th>\n",
       "      <th>Extent</th>\n",
       "      <th>Solidity</th>\n",
       "      <th>Roundness</th>\n",
       "      <th>Compactness</th>\n",
       "      <th>ShapeFactor1</th>\n",
       "      <th>ShapeFactor2</th>\n",
       "      <th>ShapeFactor3</th>\n",
       "      <th>ShapeFactor4</th>\n",
       "      <th>Class</th>\n",
       "    </tr>\n",
       "  </thead>\n",
       "  <tbody>\n",
       "    <tr>\n",
       "      <th>2977</th>\n",
       "      <td>75351</td>\n",
       "      <td>1095.258</td>\n",
       "      <td>408.409</td>\n",
       "      <td>236.043</td>\n",
       "      <td>1.730</td>\n",
       "      <td>0.816</td>\n",
       "      <td>76285</td>\n",
       "      <td>309.742</td>\n",
       "      <td>0.794</td>\n",
       "      <td>0.988</td>\n",
       "      <td>0.789</td>\n",
       "      <td>0.758</td>\n",
       "      <td>0.005</td>\n",
       "      <td>0.001</td>\n",
       "      <td>0.575</td>\n",
       "      <td>0.995</td>\n",
       "      <td>0</td>\n",
       "    </tr>\n",
       "    <tr>\n",
       "      <th>1913</th>\n",
       "      <td>48335</td>\n",
       "      <td>812.408</td>\n",
       "      <td>293.954</td>\n",
       "      <td>209.525</td>\n",
       "      <td>1.403</td>\n",
       "      <td>0.701</td>\n",
       "      <td>48862</td>\n",
       "      <td>248.077</td>\n",
       "      <td>0.735</td>\n",
       "      <td>0.989</td>\n",
       "      <td>0.920</td>\n",
       "      <td>0.844</td>\n",
       "      <td>0.006</td>\n",
       "      <td>0.002</td>\n",
       "      <td>0.712</td>\n",
       "      <td>0.999</td>\n",
       "      <td>5</td>\n",
       "    </tr>\n",
       "    <tr>\n",
       "      <th>238</th>\n",
       "      <td>34703</td>\n",
       "      <td>676.387</td>\n",
       "      <td>230.769</td>\n",
       "      <td>191.763</td>\n",
       "      <td>1.203</td>\n",
       "      <td>0.556</td>\n",
       "      <td>35025</td>\n",
       "      <td>210.203</td>\n",
       "      <td>0.773</td>\n",
       "      <td>0.991</td>\n",
       "      <td>0.953</td>\n",
       "      <td>0.911</td>\n",
       "      <td>0.007</td>\n",
       "      <td>0.003</td>\n",
       "      <td>0.830</td>\n",
       "      <td>0.998</td>\n",
       "      <td>5</td>\n",
       "    </tr>\n",
       "    <tr>\n",
       "      <th>1684</th>\n",
       "      <td>44436</td>\n",
       "      <td>772.915</td>\n",
       "      <td>270.332</td>\n",
       "      <td>209.535</td>\n",
       "      <td>1.290</td>\n",
       "      <td>0.632</td>\n",
       "      <td>44893</td>\n",
       "      <td>237.861</td>\n",
       "      <td>0.784</td>\n",
       "      <td>0.990</td>\n",
       "      <td>0.935</td>\n",
       "      <td>0.880</td>\n",
       "      <td>0.006</td>\n",
       "      <td>0.002</td>\n",
       "      <td>0.774</td>\n",
       "      <td>0.999</td>\n",
       "      <td>5</td>\n",
       "    </tr>\n",
       "    <tr>\n",
       "      <th>13204</th>\n",
       "      <td>38277</td>\n",
       "      <td>729.704</td>\n",
       "      <td>281.092</td>\n",
       "      <td>173.642</td>\n",
       "      <td>1.619</td>\n",
       "      <td>0.786</td>\n",
       "      <td>38676</td>\n",
       "      <td>220.762</td>\n",
       "      <td>0.777</td>\n",
       "      <td>0.990</td>\n",
       "      <td>0.903</td>\n",
       "      <td>0.785</td>\n",
       "      <td>0.007</td>\n",
       "      <td>0.002</td>\n",
       "      <td>0.617</td>\n",
       "      <td>0.998</td>\n",
       "      <td>3</td>\n",
       "    </tr>\n",
       "  </tbody>\n",
       "</table>\n",
       "</div>"
      ],
      "text/plain": [
       "        Area  Perimeter  MajorAxisLength  MinorAxisLength  AspectRatio  \\\n",
       "2977   75351   1095.258          408.409          236.043        1.730   \n",
       "1913   48335    812.408          293.954          209.525        1.403   \n",
       "238    34703    676.387          230.769          191.763        1.203   \n",
       "1684   44436    772.915          270.332          209.535        1.290   \n",
       "13204  38277    729.704          281.092          173.642        1.619   \n",
       "\n",
       "       Eccentricity  ConvexArea  EquivDiameter  Extent  Solidity  Roundness  \\\n",
       "2977          0.816       76285        309.742   0.794     0.988      0.789   \n",
       "1913          0.701       48862        248.077   0.735     0.989      0.920   \n",
       "238           0.556       35025        210.203   0.773     0.991      0.953   \n",
       "1684          0.632       44893        237.861   0.784     0.990      0.935   \n",
       "13204         0.786       38676        220.762   0.777     0.990      0.903   \n",
       "\n",
       "       Compactness  ShapeFactor1  ShapeFactor2  ShapeFactor3  ShapeFactor4  \\\n",
       "2977         0.758         0.005         0.001         0.575         0.995   \n",
       "1913         0.844         0.006         0.002         0.712         0.999   \n",
       "238          0.911         0.007         0.003         0.830         0.998   \n",
       "1684         0.880         0.006         0.002         0.774         0.999   \n",
       "13204        0.785         0.007         0.002         0.617         0.998   \n",
       "\n",
       "       Class  \n",
       "2977       0  \n",
       "1913       5  \n",
       "238        5  \n",
       "1684       5  \n",
       "13204      3  "
      ]
     },
     "execution_count": 13,
     "metadata": {},
     "output_type": "execute_result"
    }
   ],
   "source": [
    "val_df.head()"
   ]
  },
  {
   "cell_type": "code",
   "execution_count": 9,
   "metadata": {},
   "outputs": [],
   "source": [
    "# from sklearn.preprocessing import LabelEncoder\n",
    "# labelencoder = LabelEncoder()\n",
    "# df[\"Class\"] = labelencoder.fit_transform(df['Class'])"
   ]
  },
  {
   "cell_type": "code",
   "execution_count": 14,
   "metadata": {},
   "outputs": [
    {
     "data": {
      "image/png": "[encoded data removed]",
      "text/plain": [
       "<Figure size 640x480 with 1 Axes>"
      ]
     },
     "metadata": {},
     "output_type": "display_data"
    }
   ],
   "source": [
    "sns.countplot(x = 'Class', data=train_df)\n",
    "plt.show()"
   ]
  },
  {
   "cell_type": "code",
   "execution_count": 25,
   "metadata": {},
   "outputs": [],
   "source": [
    "# from sklearn.model_selection import train_test_split\n",
    "\n",
    "# # Split the data into features and label\n",
    "# X = df.drop(columns='Class')\n",
    "# y = df['Class']\n",
    "\n",
    "# # split dataset into train, test and validation\n",
    "# X_train, X_temp, y_train, y_temp = train_test_split(X, y, test_size=0.3, random_state=42, stratify = y)\n",
    "\n",
    "# X_val, X_test, y_val, y_test = train_test_split(X_temp, y_temp, test_size=0.4, random_state=42, stratify = y_temp)"
   ]
  },
  {
   "cell_type": "markdown",
   "metadata": {},
   "source": [
    "#### Sampling techniques"
   ]
  },
  {
   "cell_type": "code",
   "execution_count": 15,
   "metadata": {},
   "outputs": [],
   "source": [
    "# Split train_df and val_df into features and label\n",
    "X_train = train_df.drop(columns='Class')\n",
    "y_train = train_df['Class']\n",
    "\n",
    "X_val = train_df.drop(columns='Class')\n",
    "y_val = train_df['Class']"
   ]
  },
  {
   "cell_type": "code",
   "execution_count": 17,
   "metadata": {},
   "outputs": [
    {
     "name": "stdout",
     "output_type": "stream",
     "text": [
      "After SMOTE: 17374 17374\n"
     ]
    }
   ],
   "source": [
    "# Our dataset has an imbalance in class labels. To prevent this from negatively impacting model performance, we need to address this issue.\n",
    "from imblearn.over_sampling import SMOTE\n",
    "\n",
    "smote = SMOTE(random_state=42)\n",
    "X_train_res, y_train_res = smote.fit_resample(X_train, y_train)\n",
    "\n",
    "print(\"After SMOTE:\", len(X_train_res), len(y_train_res))"
   ]
  },
  {
   "cell_type": "code",
   "execution_count": 18,
   "metadata": {},
   "outputs": [
    {
     "data": {
      "text/plain": [
       "<Axes: xlabel='Class', ylabel='count'>"
      ]
     },
     "execution_count": 18,
     "metadata": {},
     "output_type": "execute_result"
    },
    {
     "data": {
      "image/png": "[encoded data removed]",
      "text/plain": [
       "<Figure size 640x480 with 1 Axes>"
      ]
     },
     "metadata": {},
     "output_type": "display_data"
    }
   ],
   "source": [
    "sns.countplot(x = y_train_res)"
   ]
  },
  {
   "cell_type": "code",
   "execution_count": 19,
   "metadata": {},
   "outputs": [
    {
     "data": {
      "text/plain": [
       "(17374, 16)"
      ]
     },
     "execution_count": 19,
     "metadata": {},
     "output_type": "execute_result"
    }
   ],
   "source": [
    "X_train_res.shape"
   ]
  },
  {
   "cell_type": "markdown",
   "metadata": {},
   "source": [
    "#### Standardization"
   ]
  },
  {
   "cell_type": "code",
   "execution_count": 20,
   "metadata": {},
   "outputs": [],
   "source": [
    "from sklearn.preprocessing import StandardScaler\n",
    "scaler = StandardScaler()\n",
    "X_train_res = scaler.fit_transform(X_train_res)\n",
    "X_val = scaler.transform(X_val)"
   ]
  },
  {
   "cell_type": "code",
   "execution_count": 21,
   "metadata": {},
   "outputs": [],
   "source": [
    "# Model training\n",
    "from sklearn.ensemble import RandomForestClassifier\n",
    "\n",
    "forest = RandomForestClassifier(n_estimators=10, \n",
    "                                random_state=42, \n",
    "                                max_depth=8, \n",
    "                                max_features=5, \n",
    "                                min_samples_leaf=5)\n",
    "\n",
    "forest.fit(X_train_res, y_train_res)\n",
    "y_pred = forest.predict(X_val)"
   ]
  },
  {
   "cell_type": "code",
   "execution_count": 23,
   "metadata": {},
   "outputs": [
    {
     "name": "stdout",
     "output_type": "stream",
     "text": [
      "Accuracy: 0.93062\n",
      "              precision    recall  f1-score   support\n",
      "\n",
      "    BARBUNYA       0.96      0.91      0.93       925\n",
      "      BOMBAY       1.00      1.00      1.00       365\n",
      "        CALI       0.93      0.96      0.95      1141\n",
      "    DERMASON       0.93      0.92      0.92      2482\n",
      "       HOROZ       0.98      0.95      0.96      1350\n",
      "       SEKER       0.96      0.95      0.95      1419\n",
      "        SIRA       0.85      0.90      0.87      1845\n",
      "\n",
      "    accuracy                           0.93      9527\n",
      "   macro avg       0.94      0.94      0.94      9527\n",
      "weighted avg       0.93      0.93      0.93      9527\n",
      "\n"
     ]
    }
   ],
   "source": [
    "from sklearn.metrics import classification_report, accuracy_score\n",
    "\n",
    "print('Accuracy: %.5f' % accuracy_score(y_val, y_pred))\n",
    "print(classification_report(y_val, y_pred, target_names=np.unique(labelencoder.inverse_transform(train_df[\"Class\"]))))"
   ]
  },
  {
   "cell_type": "markdown",
   "metadata": {},
   "source": [
    "#### Hyper Parameter tuning and MLflow tracking & experiment"
   ]
  },
  {
   "cell_type": "code",
   "execution_count": 24,
   "metadata": {},
   "outputs": [
    {
     "data": {
      "text/plain": [
       "<Experiment: artifact_location='file:///c:/Users/b-cichebi/Documents/MLOps-project/MLOps-project/notebook/mlruns/1', creation_time=1723121964576, experiment_id='1', last_update_time=1723121964576, lifecycle_stage='active', name='dry-bean-detection', tags={}>"
      ]
     },
     "execution_count": 24,
     "metadata": {},
     "output_type": "execute_result"
    }
   ],
   "source": [
    "import mlflow\n",
    "\n",
    "MLFLOW_TRACKING_URI = \"sqlite:///mlflow.db\"\n",
    "MLFLOW_EXPERIMENT_NAME = \"dry-bean-detection\"\n",
    "\n",
    "mlflow.set_tracking_uri(MLFLOW_TRACKING_URI)\n",
    "mlflow.set_experiment(MLFLOW_EXPERIMENT_NAME)"
   ]
  },
  {
   "cell_type": "code",
   "execution_count": 33,
   "metadata": {},
   "outputs": [],
   "source": [
    "from typing import Union\n",
    "from sklearn.linear_model import LogisticRegression\n",
    "from sklearn.ensemble import RandomForestClassifier\n",
    "from xgboost import XGBClassifier\n",
    "from sklearn.model_selection import RandomizedSearchCV, KFold\n",
    "\n",
    "def random_search_hyperparameter_tuning_classification(X:Union[np.array, pd.DataFrame], y:pd.Series)->pd.DataFrame:\n",
    "    # input schema for MLflow\n",
    "    schema = X.head(1)\n",
    "\n",
    "    param = {\n",
    "        'Logistic_Regression': {\n",
    "            'model': LogisticRegression(),\n",
    "            'params': {\n",
    "                'penalty': ['l1', 'l2', 'elasticnet'],\n",
    "                'C': [0.01, 0.1, 1],\n",
    "                'solver': ['newton-cg', 'lbfgs', 'liblinear']\n",
    "            }\n",
    "        },\n",
    "        'Random_Forest': {\n",
    "            'model': RandomForestClassifier(),\n",
    "            'params': {\n",
    "                'n_estimators': [10, 50, 100, 200],\n",
    "                'max_features': ['sqrt', 'log2'],\n",
    "                'max_depth': [None, 10, 20, 30, 40, 50],\n",
    "                'criterion': ['gini', 'entropy']\n",
    "            }\n",
    "        },\n",
    "        'XGBoost': {\n",
    "            'model': XGBClassifier(),\n",
    "            'params': {\n",
    "                'n_estimators': [50, 100, 150],\n",
    "                'learning_rate': [0.01, 0.1, 0.2],\n",
    "                'max_depth': [3, 5, 7, 9],\n",
    "                'subsample': [0.6, 0.8, 1.0],\n",
    "                'colsample_bytree': [0.6, 0.8, 1.0]\n",
    "            }\n",
    "        }\n",
    "    }\n",
    "\n",
    "    results = []\n",
    "\n",
    "    kf = KFold(n_splits=5, shuffle=True, random_state=20)\n",
    "    for key, values in param.items():\n",
    "\n",
    "        with mlflow.start_run(run_name = key):\n",
    "\n",
    "            mlflow.set_tag(\"developer\", \"Christian\")\n",
    "\n",
    "            random_search = RandomizedSearchCV(values['model'], values['params'], cv=kf, return_train_score=False, refit=True)\n",
    "            random_search.fit(X, y)\n",
    "\n",
    "            # Log parameters\n",
    "            for param_name, param_value in random_search.best_params_.items():\n",
    "                mlflow.log_param(param_name, param_value)\n",
    "            \n",
    "            # Log metrics\n",
    "            mlflow.log_metric(\"best_score\", random_search.best_score_)\n",
    "            \n",
    "            # Log the model\n",
    "            if key == 'XGBoost':\n",
    "                mlflow.xgboost.log_model(random_search.best_estimator_, \"xgboost_model\", input_example=schema)\n",
    "            else:\n",
    "                mlflow.sklearn.log_model(random_search.best_estimator_, \"model\", input_example=schema)\n",
    "\n",
    "            results.append({\n",
    "                'model_name': key,\n",
    "                'best_score': random_search.best_score_,\n",
    "                'best_param': random_search.best_params_\n",
    "            })\n",
    "    return pd.DataFrame(results, columns=['model_name', 'best_score', 'best_param'])\n"
   ]
  },
  {
   "cell_type": "code",
   "execution_count": null,
   "metadata": {},
   "outputs": [],
   "source": [
    "random_search_hyperparameter_tuning_classification(X_train_res, y_train_res)"
   ]
  },
  {
   "cell_type": "code",
   "execution_count": 32,
   "metadata": {},
   "outputs": [
    {
     "name": "stderr",
     "output_type": "stream",
     "text": [
      "2024/08/08 16:29:38 WARNING mlflow.models.model: Input example should be provided to infer model signature if the model signature is not provided when logging the model.\n",
      "2024/08/08 16:30:04 WARNING mlflow.models.model: Input example should be provided to infer model signature if the model signature is not provided when logging the model.\n",
      "2024/08/08 16:30:28 WARNING mlflow.models.model: Input example should be provided to infer model signature if the model signature is not provided when logging the model.\n"
     ]
    }
   ],
   "source": [
    "from sklearn.linear_model import LogisticRegression\n",
    "from sklearn.ensemble import RandomForestClassifier\n",
    "from xgboost import XGBClassifier\n",
    "from sklearn.model_selection import RandomizedSearchCV, KFold\n",
    "param = {\n",
    "    'Logistic_Regression': {\n",
    "        'model': LogisticRegression(),\n",
    "        'params': {\n",
    "            'penalty': ['l2'],\n",
    "            'C': [0.01],\n",
    "            'solver': ['newton-cg']\n",
    "        }\n",
    "    },\n",
    "    'Random_Forest': {\n",
    "        'model': RandomForestClassifier(),\n",
    "        'params': {\n",
    "            'n_estimators': [10],\n",
    "            'max_features': ['log2'],\n",
    "            'max_depth': [10],\n",
    "            'criterion': ['gini']\n",
    "        }\n",
    "    },\n",
    "    'XGBoost': {\n",
    "        'model': XGBClassifier(),\n",
    "        'params': {\n",
    "            'n_estimators': [50],\n",
    "            'learning_rate': [0.01],\n",
    "            'max_depth': [3],\n",
    "            'subsample': [0.6],\n",
    "            'colsample_bytree': [0.6]\n",
    "        }\n",
    "    }\n",
    "}\n",
    "\n",
    "results = []\n",
    "\n",
    "kf = KFold(n_splits=5, shuffle=True, random_state=20)\n",
    "for key, values in param.items():\n",
    "\n",
    "    with mlflow.start_run(run_name = key):\n",
    "\n",
    "        mlflow.set_tag(\"developer\", \"Christian\")\n",
    "\n",
    "        random_search = RandomizedSearchCV(values['model'], values['params'], cv=kf, return_train_score=False, refit=True)\n",
    "        random_search.fit(X_train, y_train)\n",
    "\n",
    "        # Log parameters\n",
    "        for param_name, param_value in random_search.best_params_.items():\n",
    "            mlflow.log_param(param_name, param_value)\n",
    "        \n",
    "        # Log metrics\n",
    "        mlflow.log_metric(\"best_score\", random_search.best_score_)\n",
    "        \n",
    "        # Log the model\n",
    "        if key == 'XGBoost':\n",
    "            mlflow.xgboost.log_model(random_search.best_estimator_, \"xgboost_model\")\n",
    "        else:\n",
    "            mlflow.sklearn.log_model(random_search.best_estimator_, \"model\")\n",
    "\n",
    "        results.append({\n",
    "            'model_name': key,\n",
    "            'best_score': random_search.best_score_,\n",
    "            'best_param': random_search.best_params_\n",
    "        })\n"
   ]
  },
  {
   "cell_type": "code",
   "execution_count": null,
   "metadata": {},
   "outputs": [],
   "source": [
    "#mlflow.set_experiment(\"Kwizat-Haderach\")\n",
    "\n",
    "with mlflow.start_run():\n",
    "\n",
    "    params = {\"C\": 0.1, \"random_state\": 42}\n",
    "    mlflow.log_params(params)\n",
    "\n",
    "    lr = LogisticRegression(**params)\n",
    "    lr.fit(X_train_scaled, y_train)\n",
    "    y_preds = lr.predict(X_test_scaled)\n",
    "\n",
    "    mlflow.log_metric(\"accuracy\", accuracy_score(y_test, y_preds)) \n",
    "\n",
    "    mlflow.sklearn.log_model(lr, artifact_path=\"models\")"
   ]
  },
  {
   "cell_type": "code",
   "execution_count": 142,
   "metadata": {},
   "outputs": [],
   "source": [
    "from mlflow import MlflowClient\n",
    "\n",
    "#mlflow.get_artifact_uri()"
   ]
  },
  {
   "cell_type": "code",
   "execution_count": null,
   "metadata": {},
   "outputs": [],
   "source": []
  }
 ],
 "metadata": {
  "kernelspec": {
   "display_name": "mlops-project",
   "language": "python",
   "name": "python3"
  },
  "language_info": {
   "codemirror_mode": {
    "name": "ipython",
    "version": 3
   },
   "file_extension": ".py",
   "mimetype": "text/x-python",
   "name": "python",
   "nbconvert_exporter": "python",
   "pygments_lexer": "ipython3",
   "version": "3.12.4"
  }
 },
 "nbformat": 4,
 "nbformat_minor": 2
}
